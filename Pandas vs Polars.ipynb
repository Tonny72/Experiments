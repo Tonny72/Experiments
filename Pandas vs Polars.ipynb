{
 "cells": [
  {
   "cell_type": "code",
   "execution_count": 9,
   "outputs": [],
   "source": [
    "# install packages\n",
    "# ! pip install pandas\n",
    "# ! pip install pyarrow\n",
    "# ! pip install polars"
   ],
   "metadata": {
    "collapsed": false
   }
  },
  {
   "cell_type": "code",
   "execution_count": 10,
   "outputs": [],
   "source": [
    "filename = r'./Data/test.parquet'"
   ],
   "metadata": {
    "collapsed": false
   }
  },
  {
   "cell_type": "code",
   "execution_count": 13,
   "outputs": [
    {
     "name": "stdout",
     "output_type": "stream",
     "text": [
      "17.23322989999997\n"
     ]
    }
   ],
   "source": [
    "# read .parquet file with polars\n",
    "\n",
    "import timeit\n",
    "import polars\n",
    "def test_polars_read_parquet():\n",
    "    pl_df = polars.read_parquet(filename)\n",
    "\n",
    "print(timeit.timeit('test_polars_read_parquet()', setup='from __main__ import test_polars_read_parquet', number=5))"
   ],
   "metadata": {
    "collapsed": false
   }
  },
  {
   "cell_type": "code",
   "execution_count": 12,
   "outputs": [
    {
     "name": "stdout",
     "output_type": "stream",
     "text": [
      "74.28113049999999\n"
     ]
    }
   ],
   "source": [
    "# read .parquet file with pandas\n",
    "\n",
    "import timeit\n",
    "import pandas\n",
    "def test_pandas_read_parquet():\n",
    "    pd_df = pandas.read_parquet(filename)\n",
    "\n",
    "print(timeit.timeit('test_pandas_read_parquet()', setup='from __main__ import test_pandas_read_parquet', number=5))"
   ],
   "metadata": {
    "collapsed": false
   }
  },
  {
   "cell_type": "markdown",
   "source": [
    "# Comparison between of read_parquet in pandas and polars\n",
    "Conclusion: pandas is 4 times slower."
   ],
   "metadata": {
    "collapsed": false
   }
  },
  {
   "cell_type": "code",
   "execution_count": null,
   "outputs": [],
   "source": [],
   "metadata": {
    "collapsed": false
   }
  }
 ],
 "metadata": {
  "kernelspec": {
   "display_name": "Python 3",
   "language": "python",
   "name": "python3"
  },
  "language_info": {
   "codemirror_mode": {
    "name": "ipython",
    "version": 2
   },
   "file_extension": ".py",
   "mimetype": "text/x-python",
   "name": "python",
   "nbconvert_exporter": "python",
   "pygments_lexer": "ipython2",
   "version": "2.7.6"
  }
 },
 "nbformat": 4,
 "nbformat_minor": 0
}
